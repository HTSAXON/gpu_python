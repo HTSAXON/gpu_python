{
 "cells": [
  {
   "cell_type": "code",
   "execution_count": null,
   "id": "cd96393b",
   "metadata": {},
   "outputs": [],
   "source": []
  },
  {
   "cell_type": "code",
   "execution_count": null,
   "id": "ea480452",
   "metadata": {},
   "outputs": [],
   "source": [
    "import cuml\n",
    "from cuml.ensemble import RandomForestClassifier as cuRF\n",
    "import cupy as cp  # GPU-compatible version of NumPy\n"
   ]
  },
  {
   "cell_type": "code",
   "execution_count": null,
   "id": "1bfcb696",
   "metadata": {},
   "outputs": [],
   "source": [
    "\n",
    "# Generate random data (in GPU memory using CuPy)\n",
    "X_gpu = cp.random.rand(100000, 28)\n",
    "y_gpu = cp.random.randint(2, size=100000)\n"
   ]
  },
  {
   "cell_type": "code",
   "execution_count": null,
   "id": "d6f00240",
   "metadata": {},
   "outputs": [],
   "source": [
    "\n",
    "# Train GPU-based Random Forest\n",
    "model = cuRF(n_estimators=100, max_depth=10)\n",
    "model.fit(X_gpu, y_gpu)\n"
   ]
  },
  {
   "cell_type": "code",
   "execution_count": null,
   "id": "147d5c07",
   "metadata": {},
   "outputs": [],
   "source": [
    "\n",
    "# Predict\n",
    "preds = model.predict(X_gpu)"
   ]
  }
 ],
 "metadata": {
  "kernelspec": {
   "display_name": "ai_3_12_9",
   "language": "python",
   "name": "python3"
  },
  "language_info": {
   "name": "python",
   "version": "3.12.9"
  }
 },
 "nbformat": 4,
 "nbformat_minor": 5
}
